{
 "cells": [
  {
   "cell_type": "markdown",
   "metadata": {
    "id": "3IEImGj-Bovy"
   },
   "source": [
    "# Running experiments on Colab\n",
    "="
   ]
  },
  {
   "cell_type": "markdown",
   "metadata": {
    "id": "t3cg-k9lCbcM"
   },
   "source": [
    "## 0. **IMPORTANT:** Make sure runtime uses GPU\n",
    "**You will have to restart everything if you forget this.**\n",
    "1. Go to \"Runtime\" > \"change runtime type\"\n",
    "2. Select \"GPU\" for \"Hardware accelerator\"\n"
   ]
  },
  {
   "cell_type": "markdown",
   "metadata": {
    "id": "OvIogkHU7JLy"
   },
   "source": [
    "## 1. Installation on Colab\n",
    "\n",
    "Run the following commands to install the conda environment on Google Colab"
   ]
  },
  {
   "cell_type": "code",
   "execution_count": 1,
   "metadata": {
    "id": "etsVue8RRQAt",
    "ExecuteTime": {
     "start_time": "2023-05-17T02:17:24.429200Z",
     "end_time": "2023-05-17T02:17:25.461202Z"
    }
   },
   "outputs": [
    {
     "name": "stdout",
     "output_type": "stream",
     "text": [
      "Python 3.9.16\n",
      "Package                  Version\n",
      "------------------------ -----------\n",
      "aiofiles                 22.1.0\n",
      "aiosqlite                0.19.0\n",
      "anyio                    3.6.2\n",
      "argon2-cffi              21.3.0\n",
      "argon2-cffi-bindings     21.2.0\n",
      "arrow                    1.2.3\n",
      "asttokens                2.2.1\n",
      "atari-py                 0.2.9\n",
      "atomicwrites             1.4.0\n",
      "attrs                    22.1.0\n",
      "Babel                    2.12.1\n",
      "backcall                 0.2.0\n",
      "beautifulsoup4           4.12.2\n",
      "bleach                   6.0.0\n",
      "box2d-py                 2.3.8\n",
      "certifi                  2023.5.7\n",
      "cffi                     1.15.1\n",
      "charset-normalizer       3.1.0\n",
      "colorama                 0.4.6\n",
      "comm                     0.1.3\n",
      "contourpy                1.0.7\n",
      "cycler                   0.11.0\n",
      "Cython                   0.29.33\n",
      "debugpy                  1.6.7\n",
      "decorator                5.1.1\n",
      "defusedxml               0.7.1\n",
      "execnet                  1.9.0\n",
      "executing                1.2.0\n",
      "fastjsonschema           2.16.3\n",
      "fonttools                4.39.4\n",
      "fqdn                     1.5.1\n",
      "idna                     3.4\n",
      "importlib-metadata       6.6.0\n",
      "importlib-resources      5.12.0\n",
      "iniconfig                1.1.1\n",
      "ipykernel                6.23.1\n",
      "ipython                  8.13.2\n",
      "ipython-genutils         0.2.0\n",
      "ipywidgets               8.0.6\n",
      "isoduration              20.11.0\n",
      "jedi                     0.18.2\n",
      "Jinja2                   3.1.2\n",
      "joblib                   1.2.0\n",
      "json5                    0.9.14\n",
      "jsonpointer              2.3\n",
      "jsonschema               4.17.3\n",
      "jupyter                  1.0.0\n",
      "jupyter_client           8.2.0\n",
      "jupyter-console          6.6.3\n",
      "jupyter_core             5.3.0\n",
      "jupyter-events           0.6.3\n",
      "jupyter_server           2.5.0\n",
      "jupyter_server_fileid    0.9.0\n",
      "jupyter_server_terminals 0.4.4\n",
      "jupyter_server_ydoc      0.8.0\n",
      "jupyter-ydoc             0.2.4\n",
      "jupyterlab               3.6.3\n",
      "jupyterlab-pygments      0.2.2\n",
      "jupyterlab_server        2.22.1\n",
      "jupyterlab-widgets       3.0.7\n",
      "kiwisolver               1.4.4\n",
      "MarkupSafe               2.1.2\n",
      "matplotlib               3.7.1\n",
      "matplotlib-inline        0.1.6\n",
      "mistune                  2.0.5\n",
      "nbclassic                1.0.0\n",
      "nbclient                 0.7.4\n",
      "nbconvert                7.4.0\n",
      "nbformat                 5.8.0\n",
      "nbmerge                  0.0.4\n",
      "nest-asyncio             1.5.6\n",
      "notebook                 6.5.4\n",
      "notebook_shim            0.2.3\n",
      "numpy                    1.24.2\n",
      "packaging                23.0\n",
      "pandas                   2.0.1\n",
      "pandocfilters            1.5.0\n",
      "parso                    0.8.3\n",
      "pickleshare              0.7.5\n",
      "Pillow                   9.4.0\n",
      "pip                      23.0.1\n",
      "platformdirs             3.5.1\n",
      "pluggy                   1.0.0\n",
      "prometheus-client        0.16.0\n",
      "prompt-toolkit           3.0.38\n",
      "psutil                   5.9.5\n",
      "pure-eval                0.2.2\n",
      "py                       1.11.0\n",
      "pycparser                2.21\n",
      "Pygments                 2.15.1\n",
      "pyparsing                3.0.9\n",
      "pyrsistent               0.19.3\n",
      "pytest                   7.1.2\n",
      "pytest-xdist             3.3.0\n",
      "python-dateutil          2.8.2\n",
      "python-json-logger       2.0.7\n",
      "pytz                     2023.3\n",
      "pywin32                  306\n",
      "pywinpty                 2.0.10\n",
      "PyYAML                   6.0\n",
      "pyzmq                    25.0.2\n",
      "qtconsole                5.4.3\n",
      "QtPy                     2.3.1\n",
      "requests                 2.30.0\n",
      "rfc3339-validator        0.1.4\n",
      "rfc3986-validator        0.1.1\n",
      "scikit-learn             1.0.2\n",
      "scipy                    1.10.1\n",
      "Send2Trash               1.8.2\n",
      "setuptools               66.0.0\n",
      "six                      1.16.0\n",
      "sniffio                  1.3.0\n",
      "soupsieve                2.4.1\n",
      "stack-data               0.6.2\n",
      "swig                     4.1.1\n",
      "terminado                0.17.1\n",
      "threadpoolctl            3.1.0\n",
      "tinycss2                 1.2.1\n",
      "tomli                    2.0.1\n",
      "torch                    1.8.2+cu111\n",
      "torchvision              0.9.2+cu111\n",
      "tornado                  6.3.2\n",
      "tqdm                     4.65.0\n",
      "traitlets                5.9.0\n",
      "typing_extensions        4.5.0\n",
      "tzdata                   2023.3\n",
      "uri-template             1.2.0\n",
      "urllib3                  2.0.2\n",
      "wcwidth                  0.2.6\n",
      "webcolors                1.13\n",
      "webencodings             0.5.1\n",
      "websocket-client         1.5.1\n",
      "wheel                    0.38.4\n",
      "widgetsnbextension       4.0.7\n",
      "y-py                     0.5.9\n",
      "ypy-websocket            0.8.2\n",
      "zipp                     3.15.0\n"
     ]
    }
   ],
   "source": [
    "# Check python before conda installation (keep an eye on the version, should later change) many default packages are installed that we will later remove\n",
    "!python --version\n",
    "!pip list"
   ]
  },
  {
   "cell_type": "code",
   "execution_count": null,
   "metadata": {
    "id": "xLeLhMGV8ckX"
   },
   "outputs": [],
   "source": [
    "# Install conda (we will be using Mamba instead of anaconda/miniconda, but it shouldn't matter)\n",
    "# Kernel should restart after this. Don't run the above cells again. Just keep going to the next cells\n",
    "!pip install -q condacolab\n",
    "import condacolab\n",
    "condacolab.install()"
   ]
  },
  {
   "cell_type": "code",
   "execution_count": null,
   "metadata": {
    "id": "MZu7JQaA8tJP"
   },
   "outputs": [],
   "source": [
    "# Check conda is installed\n",
    "import condacolab\n",
    "condacolab.check()\n",
    "\n",
    "!conda --version"
   ]
  },
  {
   "cell_type": "code",
   "execution_count": null,
   "metadata": {
    "id": "h6HIln1N8q4z"
   },
   "outputs": [],
   "source": [
    "# Check python again (version should change slightly) should be only a few packages installed and conda should be listed\n",
    "!python --version\n",
    "!pip list"
   ]
  },
  {
   "cell_type": "markdown",
   "metadata": {
    "id": "h7a4EZ3d_NPW"
   },
   "source": [
    "## 2. Set up conda environment\n",
    "\n",
    "For this step, you need to upload environment.yml.\n",
    "1. At the bar on the left (where \"Table of Content\" is shown), click on the file icon below.\n",
    "2. Click on the \"Upload to session storage\" icon.\n",
    "3. Locate the \"environment.yml\" file an upload it.\n",
    "4. The file should be visible in the \"Files\" panel.\n",
    "5. Run the below command."
   ]
  },
  {
   "cell_type": "code",
   "execution_count": null,
   "metadata": {
    "id": "5wrLkWvbIGEx"
   },
   "outputs": [],
   "source": [
    "!mamba env update -n base -f environment.yml"
   ]
  },
  {
   "cell_type": "code",
   "execution_count": null,
   "metadata": {
    "id": "qwsnUW7gRliI"
   },
   "outputs": [],
   "source": [
    "# Check python for the last time (version should be 3.7.4 according to our file) all packages should be installed\n",
    "!python --version\n",
    "!pip list"
   ]
  },
  {
   "cell_type": "markdown",
   "metadata": {
    "id": "jmWVNwlq9n5D"
   },
   "source": [
    "## 3. Run experiments\n",
    "\n",
    "1. Upload hw2 folder and helpers folder with their contents. (the same way you uploaded the environment.yml file.\n",
    "2. Define the experiment you want to run.\n",
    "3. Run the experiment.\n",
    "\n",
    "Note: You can either use the console command or import run_experiments and run the cell. Select the one you prefer.\n",
    "\n",
    "Note: When done, remember to download the json files in the \"results\" folder."
   ]
  },
  {
   "cell_type": "code",
   "execution_count": null,
   "metadata": {
    "id": "O-ekwd8IO8wb"
   },
   "outputs": [],
   "source": [
    "# Run console command\n",
    "!python -m hw2.experiments run-exp -n \"test_run\" --seed 42 --bs-train 128 --epochs 10 --early-stopping 5 -K 32 -L 1 -P 1 -H 100"
   ]
  },
  {
   "cell_type": "code",
   "execution_count": null,
   "metadata": {
    "id": "qPEIBjcoXBoY"
   },
   "outputs": [],
   "source": [
    "# Run cell\n",
    "from hw2.experiments import run_experiment\n",
    "seed = 42\n",
    "run_experiment(\n",
    "    'test_run', \n",
    "    seed=seed, \n",
    "    bs_train=128, \n",
    "    epochs=10, \n",
    "    early_stopping=5,\n",
    "    filters_per_layer=[32], \n",
    "    layers_per_block=1, \n",
    "    pool_every=1, \n",
    "    hidden_dims=[100],\n",
    ")"
   ]
  },
  {
   "cell_type": "code",
   "execution_count": null,
   "outputs": [],
   "source": [],
   "metadata": {
    "collapsed": false
   }
  },
  {
   "cell_type": "code",
   "execution_count": 1,
   "outputs": [],
   "source": [
    "from hw2.experiments import run_experiment"
   ],
   "metadata": {
    "collapsed": false,
    "ExecuteTime": {
     "start_time": "2023-05-18T11:56:18.073993Z",
     "end_time": "2023-05-18T11:56:18.675464Z"
    }
   }
  },
  {
   "cell_type": "code",
   "execution_count": 3,
   "outputs": [
    {
     "name": "stdout",
     "output_type": "stream",
     "text": [
      "Files already downloaded and verified\n",
      "Files already downloaded and verified\n",
      "[64, 128, 256, 512]\n",
      "YourCodeNet(\n",
      "  (feature_extractor): Sequential(\n",
      "    (0): Conv2d(3, 64, kernel_size=(3, 3), stride=(1, 1), padding=(1, 1))\n",
      "    (1): BatchNorm2d(64, eps=1e-05, momentum=0.1, affine=True, track_running_stats=True)\n",
      "    (2): ReLU(inplace=True)\n",
      "    (3): Conv2d(64, 128, kernel_size=(1, 1), stride=(1, 1))\n",
      "    (4): BatchNorm2d(128, eps=1e-05, momentum=0.1, affine=True, track_running_stats=True)\n",
      "    (5): MaxPool2d(kernel_size=2, stride=2, padding=0, dilation=1, ceil_mode=False)\n",
      "    (6): Conv2d(128, 256, kernel_size=(3, 3), stride=(1, 1), padding=(1, 1))\n",
      "    (7): BatchNorm2d(256, eps=1e-05, momentum=0.1, affine=True, track_running_stats=True)\n",
      "    (8): ReLU(inplace=True)\n",
      "    (9): Conv2d(256, 512, kernel_size=(3, 3), stride=(1, 1), padding=(1, 1))\n",
      "    (10): BatchNorm2d(512, eps=1e-05, momentum=0.1, affine=True, track_running_stats=True)\n",
      "    (11): ReLU(inplace=True)\n",
      "    (12): MaxPool2d(kernel_size=2, stride=2, padding=0, dilation=1, ceil_mode=False)\n",
      "  )\n",
      "  (classifier): Sequential(\n",
      "    (0): Flatten(start_dim=1, end_dim=-1)\n",
      "    (1): Linear(in_features=32768, out_features=100, bias=True)\n",
      "    (2): ReLU(inplace=True)\n",
      "    (3): Linear(in_features=100, out_features=10, bias=True)\n",
      "  )\n",
      ")\n",
      "--- EPOCH 1/100 ---\n",
      "train_batch (Avg. Loss 1.882, Accuracy 38.3): 100%|██████████| 391/391 [00:13<00:00, 29.91it/s]\n",
      "test_batch (Avg. Loss 1.273, Accuracy 55.0): 100%|██████████| 313/313 [00:01<00:00, 190.40it/s]\n",
      "--- EPOCH 2/100 ---\n",
      "train_batch (Avg. Loss 1.036, Accuracy 63.0): 100%|██████████| 391/391 [00:13<00:00, 29.87it/s]\n",
      "test_batch (Avg. Loss 1.254, Accuracy 58.4): 100%|██████████| 313/313 [00:01<00:00, 184.03it/s]\n",
      "--- EPOCH 3/100 ---\n",
      "train_batch (Avg. Loss 0.817, Accuracy 71.1): 100%|██████████| 391/391 [00:13<00:00, 29.33it/s]\n",
      "test_batch (Avg. Loss 1.014, Accuracy 65.3): 100%|██████████| 313/313 [00:01<00:00, 184.08it/s]\n",
      "--- EPOCH 4/100 ---\n",
      "train_batch (Avg. Loss 0.717, Accuracy 74.8): 100%|██████████| 391/391 [00:13<00:00, 29.14it/s]\n",
      "test_batch (Avg. Loss 0.800, Accuracy 72.0): 100%|██████████| 313/313 [00:01<00:00, 182.95it/s]\n",
      "--- EPOCH 5/100 ---\n",
      "train_batch (Avg. Loss 0.643, Accuracy 77.3): 100%|██████████| 391/391 [00:13<00:00, 29.28it/s]\n",
      "test_batch (Avg. Loss 0.842, Accuracy 72.0): 100%|██████████| 313/313 [00:01<00:00, 183.97it/s]\n",
      "--- EPOCH 6/100 ---\n",
      "train_batch (Avg. Loss 0.586, Accuracy 79.7): 100%|██████████| 391/391 [00:13<00:00, 29.22it/s]\n",
      "test_batch (Avg. Loss 0.927, Accuracy 69.4): 100%|██████████| 313/313 [00:01<00:00, 185.56it/s]\n",
      "--- EPOCH 7/100 ---\n",
      "train_batch (Avg. Loss 0.534, Accuracy 81.5): 100%|██████████| 391/391 [00:13<00:00, 29.26it/s]\n",
      "test_batch (Avg. Loss 0.853, Accuracy 71.8): 100%|██████████| 313/313 [00:01<00:00, 185.39it/s]\n",
      "res: FitResult(num_epochs=7, train_loss=[1.881677269935608, 1.0360939502716064, 0.8173873424530029, 0.7166556715965271, 0.6433739066123962, 0.5858809947967529, 0.5341106057167053], train_acc=[38.314, 62.994, 71.126, 74.752, 77.348, 79.676, 81.52], test_loss=[1.2726023197174072, 1.2537392377853394, 1.0138368606567383, 0.8002628087997437, 0.8415641188621521, 0.9269602298736572, 0.8525997996330261], test_acc=[55.04, 58.37, 65.27, 71.95, 71.96, 69.4, 71.76])\n",
      "*** Output file ./results\\exp2_L1_K64-128-256-512.json written\n"
     ]
    }
   ],
   "source": [
    "i=1\n",
    "run_experiment(\n",
    "        f'exp2_L{i}_K64-128-256-512',\n",
    "        filters_per_layer=[64, 128, 256, 512],\n",
    "        layers_per_block=i,\n",
    "        pool_every=2,\n",
    "        hidden_dims=[100],\n",
    "        ycn=True,\n",
    "    )"
   ],
   "metadata": {
    "collapsed": false,
    "ExecuteTime": {
     "start_time": "2023-05-18T12:06:07.303444Z",
     "end_time": "2023-05-18T12:07:53.579807Z"
    }
   }
  },
  {
   "cell_type": "code",
   "execution_count": 2,
   "outputs": [
    {
     "name": "stdout",
     "output_type": "stream",
     "text": [
      "Files already downloaded and verified\n",
      "Files already downloaded and verified\n",
      "[64, 64, 64, 128, 128, 128, 256, 256, 256, 512, 512, 512]\n",
      "YourCodeNet(\n",
      "  (feature_extractor): Sequential(\n",
      "    (0): Conv2d(3, 64, kernel_size=(3, 3), stride=(1, 1), padding=(1, 1))\n",
      "    (1): BatchNorm2d(64, eps=1e-05, momentum=0.1, affine=True, track_running_stats=True)\n",
      "    (2): ReLU(inplace=True)\n",
      "    (3): Conv2d(64, 64, kernel_size=(3, 3), stride=(1, 1), padding=(1, 1))\n",
      "    (4): BatchNorm2d(64, eps=1e-05, momentum=0.1, affine=True, track_running_stats=True)\n",
      "    (5): ReLU(inplace=True)\n",
      "    (6): Conv2d(64, 64, kernel_size=(1, 1), stride=(1, 1))\n",
      "    (7): BatchNorm2d(64, eps=1e-05, momentum=0.1, affine=True, track_running_stats=True)\n",
      "    (8): MaxPool2d(kernel_size=2, stride=2, padding=0, dilation=1, ceil_mode=False)\n",
      "    (9): Conv2d(64, 128, kernel_size=(3, 3), stride=(1, 1), padding=(1, 1))\n",
      "    (10): BatchNorm2d(128, eps=1e-05, momentum=0.1, affine=True, track_running_stats=True)\n",
      "    (11): ReLU(inplace=True)\n",
      "    (12): Conv2d(128, 128, kernel_size=(3, 3), stride=(1, 1), padding=(1, 1))\n",
      "    (13): BatchNorm2d(128, eps=1e-05, momentum=0.1, affine=True, track_running_stats=True)\n",
      "    (14): ReLU(inplace=True)\n",
      "    (15): Conv2d(128, 128, kernel_size=(1, 1), stride=(1, 1))\n",
      "    (16): BatchNorm2d(128, eps=1e-05, momentum=0.1, affine=True, track_running_stats=True)\n",
      "    (17): MaxPool2d(kernel_size=2, stride=2, padding=0, dilation=1, ceil_mode=False)\n",
      "    (18): Conv2d(128, 256, kernel_size=(3, 3), stride=(1, 1), padding=(1, 1))\n",
      "    (19): BatchNorm2d(256, eps=1e-05, momentum=0.1, affine=True, track_running_stats=True)\n",
      "    (20): ReLU(inplace=True)\n",
      "    (21): Conv2d(256, 256, kernel_size=(3, 3), stride=(1, 1), padding=(1, 1))\n",
      "    (22): BatchNorm2d(256, eps=1e-05, momentum=0.1, affine=True, track_running_stats=True)\n",
      "    (23): ReLU(inplace=True)\n",
      "    (24): Conv2d(256, 256, kernel_size=(1, 1), stride=(1, 1))\n",
      "    (25): BatchNorm2d(256, eps=1e-05, momentum=0.1, affine=True, track_running_stats=True)\n",
      "    (26): MaxPool2d(kernel_size=2, stride=2, padding=0, dilation=1, ceil_mode=False)\n",
      "    (27): Conv2d(256, 512, kernel_size=(3, 3), stride=(1, 1), padding=(1, 1))\n",
      "    (28): BatchNorm2d(512, eps=1e-05, momentum=0.1, affine=True, track_running_stats=True)\n",
      "    (29): ReLU(inplace=True)\n",
      "    (30): Conv2d(512, 512, kernel_size=(3, 3), stride=(1, 1), padding=(1, 1))\n",
      "    (31): BatchNorm2d(512, eps=1e-05, momentum=0.1, affine=True, track_running_stats=True)\n",
      "    (32): ReLU(inplace=True)\n",
      "    (33): Conv2d(512, 512, kernel_size=(3, 3), stride=(1, 1), padding=(1, 1))\n",
      "    (34): BatchNorm2d(512, eps=1e-05, momentum=0.1, affine=True, track_running_stats=True)\n",
      "    (35): ReLU(inplace=True)\n",
      "    (36): MaxPool2d(kernel_size=2, stride=2, padding=0, dilation=1, ceil_mode=False)\n",
      "  )\n",
      "  (classifier): Sequential(\n",
      "    (0): Flatten(start_dim=1, end_dim=-1)\n",
      "    (1): Linear(in_features=2048, out_features=100, bias=True)\n",
      "    (2): ReLU(inplace=True)\n",
      "    (3): Linear(in_features=100, out_features=10, bias=True)\n",
      "  )\n",
      ")\n",
      "--- EPOCH 1/100 ---\n",
      "train_batch (Avg. Loss 1.454, Accuracy 45.5): 100%|██████████| 391/391 [00:17<00:00, 22.86it/s]\n",
      "test_batch (Avg. Loss 1.169, Accuracy 58.3): 100%|██████████| 313/313 [00:01<00:00, 162.60it/s]\n",
      "--- EPOCH 2/100 ---\n",
      "train_batch (Avg. Loss 1.022, Accuracy 63.1): 100%|██████████| 391/391 [00:15<00:00, 25.53it/s]\n",
      "test_batch (Avg. Loss 1.096, Accuracy 61.4): 100%|██████████| 313/313 [00:01<00:00, 165.57it/s]\n",
      "--- EPOCH 3/100 ---\n",
      "train_batch (Avg. Loss 0.846, Accuracy 70.2): 100%|██████████| 391/391 [00:15<00:00, 24.57it/s]\n",
      "test_batch (Avg. Loss 0.924, Accuracy 68.2): 100%|██████████| 313/313 [00:02<00:00, 153.88it/s]\n",
      "--- EPOCH 4/100 ---\n",
      "train_batch (Avg. Loss 0.741, Accuracy 74.5): 100%|██████████| 391/391 [00:15<00:00, 24.92it/s]\n",
      "test_batch (Avg. Loss 0.869, Accuracy 70.7): 100%|██████████| 313/313 [00:01<00:00, 167.93it/s]\n",
      "--- EPOCH 5/100 ---\n",
      "train_batch (Avg. Loss 0.656, Accuracy 77.8): 100%|██████████| 391/391 [00:15<00:00, 25.24it/s]\n",
      "test_batch (Avg. Loss 0.987, Accuracy 68.0): 100%|██████████| 313/313 [00:01<00:00, 168.74it/s]\n",
      "--- EPOCH 6/100 ---\n",
      "train_batch (Avg. Loss 0.590, Accuracy 80.2): 100%|██████████| 391/391 [00:15<00:00, 25.24it/s]\n",
      "test_batch (Avg. Loss 0.851, Accuracy 72.5): 100%|██████████| 313/313 [00:01<00:00, 168.56it/s]\n",
      "--- EPOCH 7/100 ---\n",
      "train_batch (Avg. Loss 0.529, Accuracy 82.3): 100%|██████████| 391/391 [00:15<00:00, 25.25it/s]\n",
      "test_batch (Avg. Loss 0.764, Accuracy 74.2): 100%|██████████| 313/313 [00:01<00:00, 169.65it/s]\n",
      "--- EPOCH 8/100 ---\n",
      "train_batch (Avg. Loss 0.478, Accuracy 84.0): 100%|██████████| 391/391 [00:15<00:00, 25.32it/s]\n",
      "test_batch (Avg. Loss 0.645, Accuracy 78.2): 100%|██████████| 313/313 [00:01<00:00, 167.83it/s]\n",
      "--- EPOCH 9/100 ---\n",
      "train_batch (Avg. Loss 0.439, Accuracy 85.5): 100%|██████████| 391/391 [00:15<00:00, 25.28it/s]\n",
      "test_batch (Avg. Loss 0.840, Accuracy 73.7): 100%|██████████| 313/313 [00:01<00:00, 169.01it/s]\n",
      "--- EPOCH 10/100 ---\n",
      "train_batch (Avg. Loss 0.401, Accuracy 86.6): 100%|██████████| 391/391 [00:15<00:00, 25.30it/s]\n",
      "test_batch (Avg. Loss 0.657, Accuracy 79.1): 100%|██████████| 313/313 [00:01<00:00, 168.92it/s]\n",
      "--- EPOCH 11/100 ---\n",
      "train_batch (Avg. Loss 0.370, Accuracy 87.5): 100%|██████████| 391/391 [00:15<00:00, 25.25it/s]\n",
      "test_batch (Avg. Loss 0.702, Accuracy 78.3): 100%|██████████| 313/313 [00:01<00:00, 167.65it/s]\n",
      "res: FitResult(num_epochs=11, train_loss=[1.4544520378112793, 1.0222833156585693, 0.8461464643478394, 0.740651547908783, 0.6555595397949219, 0.5898321866989136, 0.5287075638771057, 0.47819674015045166, 0.43858325481414795, 0.4014014005661011, 0.3701035678386688], train_acc=[45.54, 63.142, 70.168, 74.46, 77.75, 80.192, 82.336, 84.008, 85.458, 86.586, 87.538], test_loss=[1.1688156127929688, 1.096497893333435, 0.9238574504852295, 0.8688173890113831, 0.9872623682022095, 0.8509908318519592, 0.7644656300544739, 0.6449808478355408, 0.8397150635719299, 0.6574394106864929, 0.7022069692611694], test_acc=[58.33, 61.39, 68.18, 70.7, 67.99, 72.49, 74.19, 78.2, 73.73, 79.13, 78.33])\n",
      "*** Output file ./results\\exp2_L3_K64-128-256-512.json written\n"
     ]
    }
   ],
   "source": [
    "i=3\n",
    "run_experiment(\n",
    "        f'exp2_L{i}_K64-128-256-512',\n",
    "        filters_per_layer=[64, 128, 256, 512],\n",
    "        layers_per_block=i,\n",
    "        pool_every=i,\n",
    "        hidden_dims=[100],\n",
    "        ycn=True,\n",
    "    )"
   ],
   "metadata": {
    "collapsed": false,
    "ExecuteTime": {
     "start_time": "2023-05-18T11:52:28.825246Z",
     "end_time": "2023-05-18T11:55:44.444769Z"
    }
   }
  },
  {
   "cell_type": "code",
   "execution_count": 2,
   "outputs": [
    {
     "name": "stdout",
     "output_type": "stream",
     "text": [
      "Files already downloaded and verified\n",
      "Files already downloaded and verified\n",
      "[64, 64, 64, 64, 128, 128, 128, 128, 256, 256, 256, 256, 512, 512, 512, 512]\n",
      "YourCodeNet(\n",
      "  (feature_extractor): Sequential(\n",
      "    (0): Conv2d(3, 64, kernel_size=(3, 3), stride=(1, 1), padding=(1, 1))\n",
      "    (1): BatchNorm2d(64, eps=1e-05, momentum=0.1, affine=True, track_running_stats=True)\n",
      "    (2): ReLU(inplace=True)\n",
      "    (3): Conv2d(64, 64, kernel_size=(3, 3), stride=(1, 1), padding=(1, 1))\n",
      "    (4): BatchNorm2d(64, eps=1e-05, momentum=0.1, affine=True, track_running_stats=True)\n",
      "    (5): ReLU(inplace=True)\n",
      "    (6): Conv2d(64, 64, kernel_size=(3, 3), stride=(1, 1), padding=(1, 1))\n",
      "    (7): BatchNorm2d(64, eps=1e-05, momentum=0.1, affine=True, track_running_stats=True)\n",
      "    (8): ReLU(inplace=True)\n",
      "    (9): Conv2d(64, 64, kernel_size=(1, 1), stride=(1, 1))\n",
      "    (10): BatchNorm2d(64, eps=1e-05, momentum=0.1, affine=True, track_running_stats=True)\n",
      "    (11): MaxPool2d(kernel_size=2, stride=2, padding=0, dilation=1, ceil_mode=False)\n",
      "    (12): Conv2d(64, 128, kernel_size=(3, 3), stride=(1, 1), padding=(1, 1))\n",
      "    (13): BatchNorm2d(128, eps=1e-05, momentum=0.1, affine=True, track_running_stats=True)\n",
      "    (14): ReLU(inplace=True)\n",
      "    (15): Conv2d(128, 128, kernel_size=(3, 3), stride=(1, 1), padding=(1, 1))\n",
      "    (16): BatchNorm2d(128, eps=1e-05, momentum=0.1, affine=True, track_running_stats=True)\n",
      "    (17): ReLU(inplace=True)\n",
      "    (18): Conv2d(128, 128, kernel_size=(3, 3), stride=(1, 1), padding=(1, 1))\n",
      "    (19): BatchNorm2d(128, eps=1e-05, momentum=0.1, affine=True, track_running_stats=True)\n",
      "    (20): ReLU(inplace=True)\n",
      "    (21): Conv2d(128, 128, kernel_size=(1, 1), stride=(1, 1))\n",
      "    (22): BatchNorm2d(128, eps=1e-05, momentum=0.1, affine=True, track_running_stats=True)\n",
      "    (23): MaxPool2d(kernel_size=2, stride=2, padding=0, dilation=1, ceil_mode=False)\n",
      "    (24): Conv2d(128, 256, kernel_size=(3, 3), stride=(1, 1), padding=(1, 1))\n",
      "    (25): BatchNorm2d(256, eps=1e-05, momentum=0.1, affine=True, track_running_stats=True)\n",
      "    (26): ReLU(inplace=True)\n",
      "    (27): Conv2d(256, 256, kernel_size=(3, 3), stride=(1, 1), padding=(1, 1))\n",
      "    (28): BatchNorm2d(256, eps=1e-05, momentum=0.1, affine=True, track_running_stats=True)\n",
      "    (29): ReLU(inplace=True)\n",
      "    (30): Conv2d(256, 256, kernel_size=(3, 3), stride=(1, 1), padding=(1, 1))\n",
      "    (31): BatchNorm2d(256, eps=1e-05, momentum=0.1, affine=True, track_running_stats=True)\n",
      "    (32): ReLU(inplace=True)\n",
      "    (33): Conv2d(256, 256, kernel_size=(1, 1), stride=(1, 1))\n",
      "    (34): BatchNorm2d(256, eps=1e-05, momentum=0.1, affine=True, track_running_stats=True)\n",
      "    (35): MaxPool2d(kernel_size=2, stride=2, padding=0, dilation=1, ceil_mode=False)\n",
      "    (36): Conv2d(256, 512, kernel_size=(3, 3), stride=(1, 1), padding=(1, 1))\n",
      "    (37): BatchNorm2d(512, eps=1e-05, momentum=0.1, affine=True, track_running_stats=True)\n",
      "    (38): ReLU(inplace=True)\n",
      "    (39): Conv2d(512, 512, kernel_size=(3, 3), stride=(1, 1), padding=(1, 1))\n",
      "    (40): BatchNorm2d(512, eps=1e-05, momentum=0.1, affine=True, track_running_stats=True)\n",
      "    (41): ReLU(inplace=True)\n",
      "    (42): Conv2d(512, 512, kernel_size=(3, 3), stride=(1, 1), padding=(1, 1))\n",
      "    (43): BatchNorm2d(512, eps=1e-05, momentum=0.1, affine=True, track_running_stats=True)\n",
      "    (44): ReLU(inplace=True)\n",
      "    (45): Conv2d(512, 512, kernel_size=(3, 3), stride=(1, 1), padding=(1, 1))\n",
      "    (46): BatchNorm2d(512, eps=1e-05, momentum=0.1, affine=True, track_running_stats=True)\n",
      "    (47): ReLU(inplace=True)\n",
      "    (48): MaxPool2d(kernel_size=2, stride=2, padding=0, dilation=1, ceil_mode=False)\n",
      "  )\n",
      "  (classifier): Sequential(\n",
      "    (0): Flatten(start_dim=1, end_dim=-1)\n",
      "    (1): Linear(in_features=2048, out_features=100, bias=True)\n",
      "    (2): ReLU(inplace=True)\n",
      "    (3): Linear(in_features=100, out_features=10, bias=True)\n",
      "  )\n",
      ")\n",
      "--- EPOCH 1/100 ---\n",
      "train_batch (Avg. Loss 1.768, Accuracy 30.5): 100%|██████████| 391/391 [00:22<00:00, 17.27it/s]\n",
      "test_batch (Avg. Loss 1.746, Accuracy 34.4): 100%|██████████| 313/313 [00:02<00:00, 141.94it/s]\n",
      "--- EPOCH 2/100 ---\n",
      "train_batch (Avg. Loss 1.315, Accuracy 51.4): 100%|██████████| 391/391 [00:21<00:00, 18.46it/s]\n",
      "test_batch (Avg. Loss 1.385, Accuracy 47.0): 100%|██████████| 313/313 [00:02<00:00, 136.81it/s]\n",
      "--- EPOCH 3/100 ---\n",
      "train_batch (Avg. Loss 1.096, Accuracy 60.3): 100%|██████████| 391/391 [00:21<00:00, 18.16it/s]\n",
      "test_batch (Avg. Loss 1.206, Accuracy 56.5): 100%|██████████| 313/313 [00:02<00:00, 143.63it/s]\n",
      "--- EPOCH 4/100 ---\n",
      "train_batch (Avg. Loss 0.963, Accuracy 65.8): 100%|██████████| 391/391 [00:21<00:00, 18.19it/s]\n",
      "test_batch (Avg. Loss 1.267, Accuracy 55.1): 100%|██████████| 313/313 [00:02<00:00, 141.90it/s]\n",
      "--- EPOCH 5/100 ---\n",
      "train_batch (Avg. Loss 0.871, Accuracy 69.4): 100%|██████████| 391/391 [00:21<00:00, 18.26it/s]\n",
      "test_batch (Avg. Loss 1.107, Accuracy 61.1): 100%|██████████| 313/313 [00:02<00:00, 141.71it/s]\n",
      "--- EPOCH 6/100 ---\n",
      "train_batch (Avg. Loss 0.778, Accuracy 73.3): 100%|██████████| 391/391 [00:21<00:00, 18.26it/s]\n",
      "test_batch (Avg. Loss 1.093, Accuracy 62.4): 100%|██████████| 313/313 [00:02<00:00, 141.36it/s]\n",
      "--- EPOCH 7/100 ---\n",
      "train_batch (Avg. Loss 0.698, Accuracy 76.1): 100%|██████████| 391/391 [00:21<00:00, 18.23it/s]\n",
      "test_batch (Avg. Loss 0.902, Accuracy 69.5): 100%|██████████| 313/313 [00:02<00:00, 140.28it/s]\n",
      "--- EPOCH 8/100 ---\n",
      "train_batch (Avg. Loss 0.624, Accuracy 78.9): 100%|██████████| 391/391 [00:21<00:00, 18.25it/s]\n",
      "test_batch (Avg. Loss 0.815, Accuracy 73.2): 100%|██████████| 313/313 [00:02<00:00, 139.25it/s]\n",
      "--- EPOCH 9/100 ---\n",
      "train_batch (Avg. Loss 0.566, Accuracy 81.0): 100%|██████████| 391/391 [00:21<00:00, 18.04it/s]\n",
      "test_batch (Avg. Loss 0.757, Accuracy 75.0): 100%|██████████| 313/313 [00:02<00:00, 135.16it/s]\n",
      "--- EPOCH 10/100 ---\n",
      "train_batch (Avg. Loss 0.510, Accuracy 83.0): 100%|██████████| 391/391 [00:21<00:00, 17.86it/s]\n",
      "test_batch (Avg. Loss 0.831, Accuracy 73.7): 100%|██████████| 313/313 [00:02<00:00, 140.09it/s]\n",
      "--- EPOCH 11/100 ---\n",
      "train_batch (Avg. Loss 0.473, Accuracy 84.1): 100%|██████████| 391/391 [00:21<00:00, 18.06it/s]\n",
      "test_batch (Avg. Loss 0.675, Accuracy 78.2): 100%|██████████| 313/313 [00:02<00:00, 141.29it/s]\n",
      "--- EPOCH 12/100 ---\n",
      "train_batch (Avg. Loss 0.440, Accuracy 85.4): 100%|██████████| 391/391 [00:21<00:00, 18.14it/s]\n",
      "test_batch (Avg. Loss 0.798, Accuracy 75.7): 100%|██████████| 313/313 [00:02<00:00, 141.87it/s]\n",
      "--- EPOCH 13/100 ---\n",
      "train_batch (Avg. Loss 0.407, Accuracy 86.5): 100%|██████████| 391/391 [00:21<00:00, 18.16it/s]\n",
      "test_batch (Avg. Loss 0.707, Accuracy 77.9): 100%|██████████| 313/313 [00:02<00:00, 141.74it/s]\n",
      "--- EPOCH 14/100 ---\n",
      "train_batch (Avg. Loss 0.384, Accuracy 87.3): 100%|██████████| 391/391 [00:21<00:00, 18.21it/s]\n",
      "test_batch (Avg. Loss 0.674, Accuracy 78.8): 100%|██████████| 313/313 [00:02<00:00, 142.52it/s]\n",
      "--- EPOCH 15/100 ---\n",
      "train_batch (Avg. Loss 0.359, Accuracy 88.1): 100%|██████████| 391/391 [00:21<00:00, 18.24it/s]\n",
      "test_batch (Avg. Loss 0.652, Accuracy 79.6): 100%|██████████| 313/313 [00:02<00:00, 142.81it/s]\n",
      "--- EPOCH 16/100 ---\n",
      "train_batch (Avg. Loss 0.339, Accuracy 88.8): 100%|██████████| 391/391 [00:22<00:00, 17.34it/s]\n",
      "test_batch (Avg. Loss 0.709, Accuracy 78.5): 100%|██████████| 313/313 [00:02<00:00, 125.78it/s]\n",
      "--- EPOCH 17/100 ---\n",
      "train_batch (Avg. Loss 0.320, Accuracy 89.5): 100%|██████████| 391/391 [00:22<00:00, 17.51it/s]\n",
      "test_batch (Avg. Loss 0.666, Accuracy 79.8): 100%|██████████| 313/313 [00:02<00:00, 138.60it/s]\n",
      "--- EPOCH 18/100 ---\n",
      "train_batch (Avg. Loss 0.303, Accuracy 90.0): 100%|██████████| 391/391 [00:21<00:00, 17.93it/s]\n",
      "test_batch (Avg. Loss 0.721, Accuracy 78.8): 100%|██████████| 313/313 [00:02<00:00, 141.68it/s]\n",
      "res: FitResult(num_epochs=18, train_loss=[1.7677218914031982, 1.3154579401016235, 1.0959804058074951, 0.9631569981575012, 0.8712124824523926, 0.7781298756599426, 0.6978810429573059, 0.6237582564353943, 0.5659753084182739, 0.5096196532249451, 0.47310736775398254, 0.44025009870529175, 0.40675029158592224, 0.38399139046669006, 0.3586095869541168, 0.3394012153148651, 0.319638192653656, 0.30265092849731445], train_acc=[30.5, 51.394, 60.342, 65.832, 69.404, 73.316, 76.116, 78.946, 81.044, 83.024, 84.092, 85.408, 86.496, 87.276, 88.14, 88.808, 89.52, 90.016], test_loss=[1.7460922002792358, 1.3848166465759277, 1.2060611248016357, 1.2670866250991821, 1.1067379713058472, 1.092590570449829, 0.9021100401878357, 0.8151414394378662, 0.7567196488380432, 0.8305399417877197, 0.6746618151664734, 0.7975911498069763, 0.7071259021759033, 0.6742604970932007, 0.6519631743431091, 0.7094454169273376, 0.6664085984230042, 0.720546543598175], test_acc=[34.42, 46.99, 56.46, 55.07, 61.07, 62.44, 69.52, 73.21, 74.97, 73.69, 78.21, 75.67, 77.9, 78.78, 79.56, 78.47, 79.77, 78.82])\n",
      "*** Output file ./results\\exp2_L4_K64-128-256-512.json written\n"
     ]
    }
   ],
   "source": [
    "i=4\n",
    "run_experiment(\n",
    "        f'exp2_L{i}_K64-128-256-512',\n",
    "        filters_per_layer=[64, 128, 256, 512],\n",
    "        layers_per_block=i,\n",
    "        pool_every=i,\n",
    "        hidden_dims=[100],\n",
    "        ycn=True,\n",
    "    )"
   ],
   "metadata": {
    "collapsed": false,
    "ExecuteTime": {
     "start_time": "2023-05-18T11:56:21.088811Z",
     "end_time": "2023-05-18T12:03:34.537922Z"
    }
   }
  },
  {
   "cell_type": "code",
   "execution_count": null,
   "outputs": [],
   "source": [],
   "metadata": {
    "collapsed": false
   }
  }
 ],
 "metadata": {
  "accelerator": "GPU",
  "colab": {
   "authorship_tag": "ABX9TyOzK2x1BPF2TMRyuplmj7Hw",
   "collapsed_sections": [],
   "name": "run_experiments_on_colab.ipynb",
   "provenance": []
  },
  "kernelspec": {
   "name": "python3",
   "language": "python",
   "display_name": "Python 3 (ipykernel)"
  },
  "language_info": {
   "name": "python"
  }
 },
 "nbformat": 4,
 "nbformat_minor": 0
}
